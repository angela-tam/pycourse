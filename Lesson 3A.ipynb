{
 "cells": [
  {
   "cell_type": "code",
   "execution_count": null,
   "metadata": {
    "collapsed": true
   },
   "outputs": [],
   "source": [
    "# By now you should feel comfortable with automating your own functions\n",
    "# However, these skills are only so helpful if you cannot apply them to the data\n",
    "# and files you use on an everyday basis\n",
    "\n",
    "# Lesson 3 will focus on \"Data Wrangling\" -- specifically, interacting with \n",
    "# files and spreadsheets."
   ]
  },
  {
   "cell_type": "code",
   "execution_count": null,
   "metadata": {
    "collapsed": true
   },
   "outputs": [],
   "source": [
    "# The first thing we will learn is how to interact with existing files and folders\n",
    "# on your disk. This will compose Lesson 3A\n",
    "\n",
    "# To do so we will need to import a few libraries in order to activate some useful\n",
    "# functions\n"
   ]
  },
  {
   "cell_type": "code",
   "execution_count": null,
   "metadata": {
    "collapsed": true
   },
   "outputs": [],
   "source": [
    "# Python loads with several \"BUILT-IN\" functions already activated. However,\n",
    "# many other functions are available through other libraries, and need only to be \n",
    "# loaded. Still others can be easily accessed through simple download and installation. \n",
    "# To access existing Python modules and libraries, there is specific syntax one can \n",
    "# call upon in order to accomplish this goal"
   ]
  },
  {
   "cell_type": "code",
   "execution_count": null,
   "metadata": {
    "collapsed": true
   },
   "outputs": [],
   "source": [
    "import subprocess\n",
    "import os,sys\n",
    "from glob import glob\n",
    "import shutil"
   ]
  },
  {
   "cell_type": "code",
   "execution_count": null,
   "metadata": {
    "collapsed": true
   },
   "outputs": [],
   "source": [
    "# Now that these libraries are imported, we can see the methods associated with them\n",
    "\n",
    "os.\n",
    "shutil.copy"
   ]
  },
  {
   "cell_type": "code",
   "execution_count": null,
   "metadata": {
    "collapsed": true
   },
   "outputs": [],
   "source": [
    "# if we don't want to import an entire library, but just a single function from a library\n",
    "# we can use the FROM syntax\n",
    "\n",
    "from shutil import copy2"
   ]
  },
  {
   "cell_type": "code",
   "execution_count": null,
   "metadata": {
    "collapsed": true
   },
   "outputs": [],
   "source": [
    "# Now copy2 is in our python namespace, and we do not need to invoke it using its library\n",
    "\n",
    "copy2?"
   ]
  },
  {
   "cell_type": "code",
   "execution_count": null,
   "metadata": {
    "collapsed": true
   },
   "outputs": [],
   "source": [
    "# We have imported several libraries that will help you interact with your os. The functions\n",
    "# within are very helpful because they allow you to perform many high and low level OS\n",
    "# commands that (more or less) should work across different operating systems.\n",
    "\n",
    "# That means that code you write with these commands should be generalizable to different\n",
    "# operating systems.\n",
    "\n",
    "# In addition, you will surely write a lot of code that will involve moving, copying, and\n",
    "# renaming files. These functions will allow you to do all of that and incorporate such\n",
    "# commands into For Loops.\n",
    "\n",
    "# I'll introduce a few of these functions, but you can learn more about them and other\n",
    "# functions online\n",
    "\n",
    "# https://docs.python.org/3/library/shutil.html\n",
    "# https://docs.python.org/3/library/subprocess.html#module-subprocess\n",
    "# https://docs.python.org/3/library/os.html\n",
    "# https://docs.python.org/3/library/os.path.html#module-os.path"
   ]
  },
  {
   "cell_type": "code",
   "execution_count": null,
   "metadata": {
    "collapsed": false
   },
   "outputs": [],
   "source": [
    "# First, lets get the current working directory and save it into a variable. This will\n",
    "# allow us to perform some operations that will (hopefully) work for each of us despite\n",
    "# different directory structures across our computers, drives and operating systems\n",
    "\n",
    "cwd = os.getcwd()\n",
    "cwd"
   ]
  },
  {
   "cell_type": "code",
   "execution_count": null,
   "metadata": {
    "collapsed": false
   },
   "outputs": [],
   "source": [
    "# we can use os.listdir() to list the contents of this directory\n",
    "os.listdir()\n",
    "\n",
    "# notice this lists all files, including hidden files"
   ]
  },
  {
   "cell_type": "code",
   "execution_count": null,
   "metadata": {
    "collapsed": false
   },
   "outputs": [],
   "source": [
    "# Let's make a new directory outside of your PyCourse directory, one directory back\n",
    "# I'll use a few os functions to do this and I'll document how it works\n",
    "\n",
    "# split the directory so that the cwd name is saved into one variable (tail) and the rest\n",
    "# of the path is saved into a different variable (pth)\n",
    "pth,tail = os.path.split(cwd)\n",
    "print('path is %s \\n cwd is %s'%(pth,tail))\n",
    "\n",
    "# create the string for the new directory by concatenating the pth variable to our new\n",
    "# directory name. \n",
    "newdir_name = 'py_scrap'\n",
    "to_make = os.path.join(pth,newdir_name)\n",
    "print('new directory will be %s'%to_make)\n",
    "\n",
    "# make the new directory\n",
    "os.mkdir(to_make)\n",
    "\n",
    "# now lets look back one directory to see if our new directory \"py_scrap\" exists\n",
    "os.listdir('..')"
   ]
  },
  {
   "cell_type": "code",
   "execution_count": null,
   "metadata": {
    "collapsed": false
   },
   "outputs": [],
   "source": [
    "# We can use os commands to formally test whether a directory (or file) exists\n",
    "\n",
    "print('the path %s exists?'%(to_make))\n",
    "print(os.path.exists(to_make))\n",
    "\n",
    "# We can even be more specific\n",
    "print('the path %s is a directory that exists?'%(to_make))\n",
    "print(os.path.isdir(to_make))\n",
    "\n",
    "print('the path %s is a file that exists?'%(to_make))\n",
    "print(os.path.isfile(to_make))\n"
   ]
  },
  {
   "cell_type": "code",
   "execution_count": null,
   "metadata": {
    "collapsed": false
   },
   "outputs": [],
   "source": [
    "# Now lets change our working directory into the new directory we just made\n",
    "os.chdir(to_make)\n",
    "\n",
    "'the current working directory is now %s'%os.getcwd()"
   ]
  },
  {
   "cell_type": "code",
   "execution_count": null,
   "metadata": {
    "collapsed": false
   },
   "outputs": [],
   "source": [
    "# In a similar fashion, we can use Python functions to move files around and other\n",
    "# high level commands, particularly with the shutil library\n",
    "\n",
    "# Lets copy a file into this new directory\n",
    "\n",
    "# give new filepath and assure its existence\n",
    "file_path = os.path.join(cwd,'stuff/rand_file')\n",
    "print(file_path)\n",
    "print('%s exists?'%file_path,os.path.isfile(file_path))\n",
    "\n",
    "# copy the file\n",
    "new_pth = shutil.copy2(file_path,to_make)\n",
    "\n",
    "# assert its existence and list the contents of the directory\n",
    "print(new_pth)\n",
    "print('%s exists?'%new_pth,os.path.isfile(new_pth))\n",
    "print('directory contents: \\n', os.listdir())\n",
    "\n",
    "\n",
    "\n",
    "# If you want to copy a full directory, use shutil.copytree instead\n",
    "# If you want to move a file instead of copy it, you can use shutil.move "
   ]
  },
  {
   "cell_type": "code",
   "execution_count": null,
   "metadata": {
    "collapsed": false
   },
   "outputs": [],
   "source": [
    "# You can use all sorts of tools to run basic commands line functions, including high-level\n",
    "# tasks like changing owners of files, creating archives, creating symbolic links, \n",
    "# and removing files.\n",
    "\n",
    "# Just to show some of these tools, I'll create an archive containing our new file, \n",
    "# make a symlink of it, then rename and remove the symlink \n",
    "\n",
    "# first make the directory to archive and move a copy of rand_file into it\n",
    "to_rxiv = os.path.join(cwd,'jnk')\n",
    "os.mkdir(to_rxiv)\n",
    "new_fl = shutil.copy2(new_pth,to_rxiv) # notice how I'm using a directory as the destination. Rather than\n",
    "                                       # rewrite it, the file will be copied into it. But still, be careful.\n",
    "print('contents of %s: \\n'%to_rxiv,os.listdir(to_rxiv))\n",
    "\n",
    "# archive it\n",
    "shutil.make_archive(base_name = 'new_archive',format = 'gztar', root_dir = to_rxiv)\n",
    "print('listing contents of %s to see if archive was made... \\n'%to_make,os.listdir())\n",
    "\n",
    "# make symbolic link\n",
    "rxiv = os.path.join(cwd,'new_archive.tar.gz')\n",
    "sym = os.path.join(os.getcwd(),'Im_a_symlink')\n",
    "os.symlink(src = rxiv,dst = sym)\n",
    "print('listing contents of %s to see if symlink was made... \\n'%to_make,os.listdir())\n",
    "\n",
    "# rename it\n",
    "nsym = os.path.join(os.getcwd(),'new_link')\n",
    "os.rename(sym,nsym)\n",
    "print('listing contents of %s to see if symlink was renamed... \\n'%to_make,os.listdir())\n",
    "\n",
    "# now remove the symlink\n",
    "os.remove(nsym)\n",
    "print('listing contents of %s to see if symlink was removed... \\n'%to_make,os.listdir())"
   ]
  },
  {
   "cell_type": "code",
   "execution_count": null,
   "metadata": {
    "collapsed": false
   },
   "outputs": [],
   "source": [
    "# Okay, now that we're done with this scratch directory, lets get rid of it.\n",
    "\n",
    "# We'll start by moving back into the pycourse directory\n",
    "os.chdir(cwd)\n",
    "print('the current working directory is now %s'%os.getcwd())\n",
    "\n",
    "# Since the directory we want to delete is indeed a directory, we should use\n",
    "# shutil.rmtree -- this functions very similar to rm -r in Linux, and is much\n",
    "# more intuitive then os.removedirs, which is somewhat destructive\n",
    "\n",
    "shutil.rmtree(to_make)\n",
    "shutil.rmtree(to_rxiv)\n",
    "\n",
    "# now lets see whether the old directory still exits\n",
    "print('%s is a path that exists?'%(to_make),os.path.isdir(to_make))\n"
   ]
  },
  {
   "cell_type": "code",
   "execution_count": null,
   "metadata": {
    "collapsed": true
   },
   "outputs": [],
   "source": [
    "# The list of high and low level commands that can by accessed through these libraries,\n",
    "# as well as the sys library, is quite comprehensive. There is much more to explore,\n",
    "# though admittedly, much of the low-level stuff is probably beyond the scope of this\n",
    "# course\n",
    "\n",
    "# I will now show you three more very useful tools that I find myself using frequently \n",
    "# when moving files around "
   ]
  },
  {
   "cell_type": "code",
   "execution_count": null,
   "metadata": {
    "collapsed": false
   },
   "outputs": [],
   "source": [
    "# os.walk allows you to iterate through directory trees and iteratively store or operate\n",
    "# on variables representing different files and directories within that tree\n",
    "\n",
    "# Here, I will iterate through the pycourse directory. For each iteration, root will\n",
    "# capture the string representing the path of each directory WITHIN the pycourse \n",
    "# directory, dirs will capture a list of strings representing the name of each directory\n",
    "# within root, and files will capture a list of strings representing the names of every\n",
    "# file within each directory and subdirectory.\n",
    "\n",
    "# For each iteration, I will print root, dirs, and if there are any files in root, I will\n",
    "# simply print the first file\n",
    "\n",
    "for root, dirs, files in os.walk(cwd):\n",
    "    if len(files) > 0:\n",
    "        print(root,dirs,files[0])\n",
    "    else:\n",
    "        print(root,dirs)\n",
    "\n",
    "# the usefulness of this might be come clear during the exercises"
   ]
  },
  {
   "cell_type": "code",
   "execution_count": null,
   "metadata": {
    "collapsed": false
   },
   "outputs": [],
   "source": [
    "# One of the more versatile functions in Python is the os.system command\n",
    "# Its lets you enter a command as if you were in your terminal instead of\n",
    "# Python.\n",
    "\n",
    "# This makes it extremely versatile. For example, you can run commandline based\n",
    "# Freesurfer and FSL commands (among other more basic commands) inside of Python \n",
    "# functions!\n",
    "\n",
    "# While it is great for interactive coding, its less useful for writing scripts\n",
    "# or sharable code, as the commands are often system specific. Let me demonstrate:\n",
    "\n",
    "# os.system works by simply entering the command-line command, in 'single quotes'\n",
    "# as an argument/\n",
    "\n",
    "# For example, on a Linux or Mac OS, this will list the contents of the directory\n",
    "\n",
    "print(os.system('ls'))\n",
    "\n",
    "# However, on Window OS, the above will not work. Instead you would need to do this\n",
    "\n",
    "print(os.system('dir'))\n",
    "\n",
    "# In contrast, this will work on all three OSs:\n",
    "print(os.listdir())\n",
    "\n",
    "# Still, os.system is a powerful tool if you're used to working in the command line,\n",
    "# (though its uses are not easy to demonstrate in an Jupyter Notebook.)"
   ]
  },
  {
   "cell_type": "code",
   "execution_count": null,
   "metadata": {
    "collapsed": false
   },
   "outputs": [],
   "source": [
    "# Finally, to take this concept a step further, you may want to run a command on\n",
    "# the commandline within a Python function, but also *capture the output* of this \n",
    "# command in a variable, which you can continue to use in your Python environment.\n",
    "\n",
    "# For this purpose, you can use subprocess.check_output\n",
    "\n",
    "# The following will not work on windows OS, though you can experiment with your\n",
    "# own commands!\n",
    "\n",
    "# I will check the file size of all the folders in my git directory\n",
    "contents = subprocess.check_output('du -sh ../*',shell=True)\n",
    "# now I'll print the contents in a more readable format \n",
    "#(I have to convert the output from bytes to string, and then remove some symbols)\n",
    "print(str(contents).replace('\\\\t','\\n').replace('\\\\n',' '))\n",
    "print('\\n')\n",
    "\n",
    "# Now I'll iterate through this information and only print a file if its above 1 MB\n",
    "folders = str(contents).split('\\\\t')\n",
    "\n",
    "for folder in folders:\n",
    "    folder = folder.replace('\\\\n',' ')\n",
    "    jnk = folder.split(' ')\n",
    "    fnm,size = jnk[0],jnk[-1]                      \n",
    "    if size[-1] == 'M':\n",
    "        if float(size[:-1]) > 1.0:\n",
    "            print('%s is larger than 1.0 MB'%fnm)\n",
    "    elif size[-1] == 'G':\n",
    "        print('%s is larger than 1.0 MB'%fnm)\n",
    "        \n",
    "# There are obviously much more useful applications for this function, but the takeaway\n",
    "# is that you can save the output of command line commands into a variable!"
   ]
  },
  {
   "cell_type": "code",
   "execution_count": null,
   "metadata": {
    "collapsed": true
   },
   "outputs": [],
   "source": [
    "### !!!!!!!!!!!WARNING!!!!!!!!!!! ###\n",
    "\n",
    "# You should be sure to use extreme caution when using these commands, as you\n",
    "# can accidentally delete or overwrite important files or folders if you're not\n",
    "# careful\n",
    "\n",
    "# For example, you could delete your whole hard drive with one short command\n",
    "# something like shutil.rmtree('/'). You can also accidentally overwrite files\n",
    "# with the copy, move and rename functions.\n",
    "\n",
    "# The point is, don't do anything that involves writing new files names, or \n",
    "# file removal, without being absolutely sure you know what you're doing!!!!"
   ]
  },
  {
   "cell_type": "code",
   "execution_count": null,
   "metadata": {
    "collapsed": false
   },
   "outputs": [],
   "source": [
    "# The last tool I'll show you in this section is one that you will use constantly: glob\n",
    "# Glob will collect all paths fitting a certain \"search string\" and compile them into\n",
    "# a list.\n",
    "\n",
    "# I will use glob to collect all files ending in the pycourse directory that end in the\n",
    "# \".ipynb\" extention. We can do this by making use of symbols such as the wildcard or\n",
    "# '*' symbol:\n",
    "\n",
    "search_str = os.path.join(cwd,'*.ipynb')\n",
    "print('here is our search string: \\n',search_str,'\\n')\n",
    "jupyters = glob(search_str)\n",
    "print('and here is the output of our glob \\n')\n",
    "print(jupyters)"
   ]
  },
  {
   "cell_type": "code",
   "execution_count": null,
   "metadata": {
    "collapsed": true
   },
   "outputs": [],
   "source": [
    "# This is incredibly useful anytime you want to perform operations on multiple files\n",
    "# especially when those files have similar filenames. This comes in great handy when\n",
    "# working with neuroimages. We will return to this many times so don't worry if you\n",
    "# don't get enough practice with it now!"
   ]
  },
  {
   "cell_type": "code",
   "execution_count": null,
   "metadata": {
    "collapsed": true
   },
   "outputs": [],
   "source": [
    "import numpy as np\n",
    "####### EXERCISES PART 1 ##############\n",
    "\n",
    "# WARNING: For all exercises, using absolute rather than relative paths will help prevent \n",
    "# you from accidentally deleting or copying things you didn't mean to. \n",
    "# For example: a = '/Users/jakevogel/git/pycourse_vuMC/Lesson 3A.ipynb' is okay.\n",
    "#              a = 'Lesson 3A.ipynb' or a = '../../Lesson 3A.ipynb' are not!\n",
    "# Be very careful when completing these exercises!\n",
    "\n",
    "## PART A\n",
    "# Use os.walk to create a primitive search function. The function should take a\n",
    "# \"search string\" as an input, and should output the parent directory of any\n",
    "# files matching the search string. The function should have a second optional \n",
    "# argument where the directory to be searched can be passed. This second argument \n",
    "# should have a default input of the users current working directory\n",
    "# BONUS: Add a third argument that determines whether the search should find only\n",
    "# exact matches, or also partial matches\n",
    "\n",
    "\n",
    "## PART B \n",
    "rands = np.random.randint(1,9999, 30)\n",
    "subdict = {}\n",
    "for i,r in enumerate(rands):\n",
    "    subdict.update({i:'NL_BRAIN_%s'%rands[i]})\n",
    "pth = os.path.join(cwd,'stuff/ex2')\n",
    "# There are several (fake) PET images located in a directory stored into the variable pth.\n",
    "# These files are listed sequentially from subj0 to subj29. However, these subjects have \n",
    "# IDs, and the map between the file IDs and the actual IDs can be found in subdict.\n",
    "# Collect all files into a list. Then, copy them into a directory you create outside of the \n",
    "# pycourse directroy. Next, iterate through each file and rename it so that \"subjX\" \n",
    "# is replaced with the subject ID (KEY) in subdict that is indexed by the VALUE X.\n",
    "\n",
    "## PART C\n",
    "# Now that you've renamed the subject IDs, you want to sort them into different directories according\n",
    "# to these IDs, which correspond to the month the scan was taken. 0-1999 = January, 2000-3999 = February,\n",
    "# 3000-5999 = March, etc. Create directories for each month and copy the appropriate files into them.\n",
    "# If any of the new directories have more than 5 files in them, targzip them and remove the un-targzipped directory.\n",
    "\n"
   ]
  },
  {
   "cell_type": "code",
   "execution_count": null,
   "metadata": {
    "collapsed": true
   },
   "outputs": [],
   "source": [
    "# Don't look below until you've tried it a few times. The answers are in the next cell\n",
    "# You can always create a new cell above this one and use it as scratch space\n",
    "# If you mess up the variables, you can always rerun the cell above to reset them\n",
    "#\n",
    "#\n",
    "#\n",
    "#\n",
    "#\n",
    "#\n",
    "#\n",
    "#\n",
    "#\n",
    "#\n",
    "#\n",
    "#\n",
    "#\n",
    "#\n",
    "#\n",
    "#\n",
    "#\n",
    "#\n",
    "#\n",
    "#\n",
    "#\n",
    "#\n",
    "#\n",
    "#\n",
    "#\n",
    "#\n",
    "#\n",
    "#\n",
    "#\n"
   ]
  },
  {
   "cell_type": "code",
   "execution_count": null,
   "metadata": {
    "collapsed": false
   },
   "outputs": [],
   "source": [
    "######## ANSWERS TO EXERCISE 1 ##############\n",
    "\n",
    "\n",
    "## PART A\n",
    "# Use os.walk to create a primitive search function.\n",
    "def find_file(look_for,search_in=os.getcwd(),match='partial'):\n",
    "    ''' will find all files within directory search_in that include look_for\n",
    "    if match is set to partial, will find all files that include the search string.\n",
    "    if match is set to exact, will only find files that exactly match the search string.'''\n",
    "              \n",
    "    if type(look_for) != str or type(search_in) != str:\n",
    "        raise TypeError('inputs must be string arguments')\n",
    "    \n",
    "    if match != 'partial' and match != 'exact':\n",
    "        print('Warning: argument match passed incorrectly','\\n',\n",
    "                'Moving forward with partial matches')\n",
    "        match = 'partial'\n",
    "    \n",
    "    count = 0\n",
    "    for root, dirs, files in os.walk(search_in):\n",
    "        for fl in files:\n",
    "            if match == 'partial':\n",
    "                if look_for in fl:\n",
    "                    print('found file %s in directory %s'%(fl,root))\n",
    "                    count = count+1\n",
    "            elif match == 'exact':\n",
    "                if look_for == fl:\n",
    "                    print('found file %s in directory %s'%(fl,root))\n",
    "                    count = count+1\n",
    "    \n",
    "    if count == 0:\n",
    "        print('Sorry, I could not find any files matching that search string')\n",
    "    else:\n",
    "        print('I found %s files matching that search string'%(count))\n",
    "    \n",
    "    \n",
    "## PART B\n",
    "\n",
    "# Collect all files into a list.\n",
    "flz = sorted(glob(os.path.join(pth,'*')))\n",
    "\n",
    "# Copy them into a directory you create outside of the pycourse directory\n",
    "npth,jnk = os.path.split(cwd)\n",
    "newdir = os.path.join(npth,'for_exercise')\n",
    "os.mkdir(newdir)\n",
    "for fl in flz:\n",
    "    shutil.copy2(fl,newdir)\n",
    "os.listdir(newdir)\n",
    "\n",
    "# Iterate through each file and rename it so that \"subjx\" is replaced with the subject ID\n",
    "flz = sorted(glob(os.path.join(newdir,'*')))\n",
    "for fl in flz:\n",
    "    fl_path,fl_name = os.path.split(fl)\n",
    "    to_change = fl_name.split('.')[0]\n",
    "    sub_num = to_change.split('subj')[-1]\n",
    "    sid = subdict[int(sub_num)]\n",
    "    new_fl = os.path.join(fl_path,'%s.nii.gz'%(sid))\n",
    "    os.rename(fl,new_fl)\n",
    "\n",
    "os.listdir(newdir)\n",
    "\n",
    "\n",
    "## PART C\n",
    "\n",
    "# Create directories for each month and copy the appropriate files into them.\n",
    "dirs = {'January': [0,1999],'February':[2000,3999],'March':[4000,5999],'April':[6000,7999],'May':[8000,9999]}\n",
    "flz = sorted(glob(os.path.join(newdir,'*')))\n",
    "for fl in flz:\n",
    "    fl_pth,flnm = os.path.split(fl)\n",
    "    ID = int(flnm.split('_')[-1].split('.')[0])\n",
    "    for dirnm,cutoffs in dirs.items():\n",
    "        if ID >= cutoffs[0] and ID <= cutoffs[1]:\n",
    "            ndir = os.path.join(fl_pth,dirnm)\n",
    "            if not os.path.isdir(ndir):\n",
    "                os.mkdir(ndir)\n",
    "            shutil.copy2(fl,ndir)\n",
    "\n",
    "# If any of the new directories have more than 5 files in them, targzip them and remove the un-targzipped directory. \n",
    "ndirs = sorted(glob(os.path.join(newdir,'*/')))\n",
    "for ndir in ndirs:\n",
    "    dirnm = ndir.split('/')[-2]\n",
    "    d_files = glob(os.path.join(ndir,'*'))\n",
    "    dir_size = len(d_files)\n",
    "    if dir_size>5:\n",
    "        shutil.make_archive(base_name = os.path.join(newdir,'rxiv_%s'%(dirnm)),format = 'gztar', root_dir = ndir)\n",
    "        shutil.rmtree(ndir)\n",
    "        \n",
    "os.listdir(newdir)          \n",
    "                   \n",
    "# clean_up\n",
    "shutil.rmtree(newdir)\n"
   ]
  },
  {
   "cell_type": "code",
   "execution_count": null,
   "metadata": {
    "collapsed": true
   },
   "outputs": [],
   "source": []
  }
 ],
 "metadata": {
  "anaconda-cloud": {},
  "kernelspec": {
   "display_name": "Python [conda env:py3]",
   "language": "python",
   "name": "conda-env-py3-py"
  },
  "language_info": {
   "codemirror_mode": {
    "name": "ipython",
    "version": 3
   },
   "file_extension": ".py",
   "mimetype": "text/x-python",
   "name": "python",
   "nbconvert_exporter": "python",
   "pygments_lexer": "ipython3",
   "version": "3.5.2"
  }
 },
 "nbformat": 4,
 "nbformat_minor": 1
}
