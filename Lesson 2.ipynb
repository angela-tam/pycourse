{
 "cells": [
  {
   "cell_type": "code",
   "execution_count": null,
   "metadata": {
    "collapsed": true
   },
   "outputs": [],
   "source": [
    "import numpy as np\n"
   ]
  },
  {
   "cell_type": "code",
   "execution_count": null,
   "metadata": {
    "collapsed": false
   },
   "outputs": [],
   "source": [
    "############## LESSON 2: THE BASICS OF AUTOMATION #####################\n",
    "\n",
    "# Perhaps the most vital purpose of many programming languages is automation;\n",
    "# the ability to perform the same tasks over and over quickly and efficiently.\n",
    "\n",
    "# Automation is at the core of almost everything else we will learn in this\n",
    "# course. It is very powerful but easy to implement.\n",
    "\n",
    "# Perhaps the simplest and most common method of iteration is the \"FOR LOOP.\"\n",
    "# You can use a FOR LOOP to perform the same operation on every item in a \n",
    "# container. A container in this case just means any object that contains several\n",
    "# other objects within it (i.e. a SEQUENCE OBJECT or SUBSCRIPTABLE OBJECT)\n",
    "\n",
    "# Here, I will create a list of numbers\n",
    "numlist = [0,1,2,3,4]\n",
    "\n",
    "# Now, using just two lines, I will add 5 to each number in the list, and print \n",
    "# it.\n",
    "for num in numlist:\n",
    "    print(num + 5)\n",
    "\n",
    "# The same operation (num + 5) was performed for every item (num) in numlist "
   ]
  },
  {
   "cell_type": "code",
   "execution_count": null,
   "metadata": {
    "collapsed": false
   },
   "outputs": [],
   "source": [
    "# Lets break down exactly how that worked. First, the idea behind what's going on.\n",
    "# When I write \"for x in y:', I'm saying, do the following for every item in \n",
    "# container Y. In this case, each item is called x. So, when I say \"for num in\n",
    "# numlist\", I am saying \"repeat the following operations for every item (num) in\n",
    "# numlist\". \n",
    "\n",
    "# It doesn't matter what I call the specific item to be iterated (i.e. \"num\" in the\n",
    "# example above)\n",
    "\n",
    "for i in numlist:\n",
    "    print(i+5)"
   ]
  },
  {
   "cell_type": "code",
   "execution_count": null,
   "metadata": {
    "collapsed": false
   },
   "outputs": [],
   "source": [
    "# Once you set up the new variable (in this case, \"i\"), that variable will represent\n",
    "# each item in the list, separately. In other words, \"i\" will change each time the\n",
    "# operation finishes. The FOR LOOP will continue performing the operation until it\n",
    "# performs the operation on every item in the container\n",
    "\n",
    "# As long as we want to do the same thing to every item in the container, we can use\n",
    "# a simple FOR LOOP to do it. \n",
    "\n",
    "# And to reiterate, for each iteration in the loop, (in the case above,) \"i\" represents\n",
    "# a different item. For example, if I wanted to add an item to itself and then print it,\n",
    "# I would do so like this\n",
    "\n",
    "for i in numlist:\n",
    "    print(i+i)"
   ]
  },
  {
   "cell_type": "code",
   "execution_count": null,
   "metadata": {
    "collapsed": false
   },
   "outputs": [],
   "source": [
    "# You can perform many operations within a for loop. For example, say you wanted to\n",
    "# perform a few operations on each item in numlist, you can do so. The only important\n",
    "# thing is that each operation must be *indented* (specifically, 4 spaces) with respect\n",
    "# to the FOR statement.\n",
    "\n",
    "for i in numlist:\n",
    "    new_i = i + 20\n",
    "    new_i = new_i / (2 + i)\n",
    "    print(i,new_i)"
   ]
  },
  {
   "cell_type": "code",
   "execution_count": null,
   "metadata": {
    "collapsed": false
   },
   "outputs": [],
   "source": [
    "# Because there are five items in numlist, the FOR LOOP performed the operation 5 times.\n",
    "# Each time, \"i\" was equal to a different item within numlist, but the operation\n",
    "# performed was the same\n",
    "\n",
    "# Notice the general formatting of a for loop. \"For x in y\" MUST be followed by a colon (:).\n",
    "# Then, any line that is indented four spaces will be part of the operations performed on\n",
    "# each item x in container y.\n",
    "\n",
    "# If a line is *not* indented, it will not be included in the FOR LOOP\n",
    "# Notice the different outputs of these two lines:\n",
    "\n",
    "for i in numlist:\n",
    "    new_i = i + 20\n",
    "    new_i = new_i / (2 + i)\n",
    "    print(i,new_i)\n",
    "    print('operation complete')\n",
    "\n",
    "print('\\n') # adding a new line to separate the results\n",
    "\n",
    "for i in numlist:\n",
    "    new_i = i + 20\n",
    "    new_i = new_i / (2 + i)\n",
    "    print(i,new_i)\n",
    "print('operation complete')\n",
    "    "
   ]
  },
  {
   "cell_type": "code",
   "execution_count": null,
   "metadata": {
    "collapsed": false
   },
   "outputs": [],
   "source": [
    "# it is also worth noting that the new variable you create for each item in a\n",
    "# container (in this case \"i\") is actually a real variable that is created in\n",
    "# your python NAMESPACE. Of course, this variable changes with each iteration,\n",
    "# but after the final iteration in the FOR LOOP, the variable will remain as \n",
    "# it was in the last iteration.\n",
    "\n",
    "print(i)"
   ]
  },
  {
   "cell_type": "code",
   "execution_count": null,
   "metadata": {
    "collapsed": false
   },
   "outputs": [],
   "source": [
    "# You should know that you can perform FOR LOOPs on any SUBSCRIPTABLE OBJECT\n",
    "\n",
    "ex_tup = ('a','b','c','d')\n",
    "ex_str = 'automation'\n",
    "\n",
    "for x in ex_tup:\n",
    "    print(x,'is type',type(x))\n",
    "\n",
    "print('\\n')\n",
    "\n",
    "for x in ex_str:\n",
    "    print(x,'is type',type(x))"
   ]
  },
  {
   "cell_type": "code",
   "execution_count": null,
   "metadata": {
    "collapsed": false
   },
   "outputs": [],
   "source": [
    "# sometimes, you might want to know exactly which iteration you are on when\n",
    "# performing iterative operations, and indeed, you may want to store and use\n",
    "# that information.\n",
    "\n",
    "# The BUILT-IN enumerate function will allow you to do this. This is a bit\n",
    "# more complicated because, for every iteration, two variables are changing:\n",
    "# the item in the container over which you are iterating, and the number\n",
    "# representing which iteration you are on. As such, you need to create \n",
    "# representations for each of those variables\n",
    "numlist = [2,5,9,16,28]\n",
    "\n",
    "for i,num in enumerate(numlist):\n",
    "    print(i,num)\n",
    "    \n",
    "print('\\n')\n",
    "\n",
    "for i,num in enumerate(numlist):\n",
    "    print('this is iteration number',i)\n",
    "    print('for iteration',i,'num is',num)"
   ]
  },
  {
   "cell_type": "code",
   "execution_count": null,
   "metadata": {
    "collapsed": false
   },
   "outputs": [],
   "source": [
    "# There are many cases in which it is useful to do this. For example, if \n",
    "# you want to physically change items in a list, you need their index. \n",
    "# In this case, the index is the same as the iteration\n",
    "\n",
    "for i,num in enumerate(numlist):\n",
    "    print(numlist[i],num)\n",
    "\n",
    "print('\\n')\n",
    "\n",
    "# If we want to physically change the items within numlist, we can do so\n",
    "# using enumerate to get the index of each item we wish to change\n",
    "\n",
    "for i,num in enumerate(numlist):\n",
    "    numlist[i] = num**2\n",
    "print(numlist)"
   ]
  },
  {
   "cell_type": "code",
   "execution_count": null,
   "metadata": {
    "collapsed": false
   },
   "outputs": [],
   "source": [
    "# Or perhaps you don't want to edit a list in place, but instead, create a new \n",
    "# list with the variables updated. In this case, you need first to create the\n",
    "# container that will recieve the new variables. In this case, it will be an \n",
    "# empty list which we will then populate.\n",
    "\n",
    "numlist = [2,5,9,16,28]\n",
    "\n",
    "new_numlist = []\n",
    "print(new_numlist)\n",
    "\n",
    "for num in numlist:\n",
    "    new_numlist.append(num**2)\n",
    "\n",
    "print(numlist)\n",
    "print(new_numlist)"
   ]
  },
  {
   "cell_type": "code",
   "execution_count": null,
   "metadata": {
    "collapsed": false
   },
   "outputs": [],
   "source": [
    "######## EXERCISES 1 #########\n",
    "\n",
    "## PART A\n",
    "# For every item in tp_list, print the type of that item\n",
    "tp_list = [5,8.0,'hi',[0,1,2],(3,4,5),{6: 7, 8:9}]\n",
    "\n",
    "## PART B\n",
    "# Here we have a bunch of ROI names in a tuple. The order of the ROI in the tuple\n",
    "# corresponds to the label of the ROI in an atlas. Using a FOR LOOP, create a dict\n",
    "# object of key/value pairs where each key is the index of the label, and refers to\n",
    "# the label as its value.\n",
    "roi_names = ('anterior_cingulate','caudal_middle_frontal','precuneus','hippocampus',\n",
    "            'amygdala','posterior_cingulate','cuneus','supramarginal_gyrus',\n",
    "            'entorinal cortex','precentral gyrus','pars_opercularis','lingual gyrus')\n",
    "\n",
    "## PART C\n",
    "# Here are bunch of tempuratures in celcius. Convert each temperature to Fahrenheit \n",
    "# so my feeble American mind can understand them and print the results.\n",
    "# Formula : c/5 = f-32/9 [ where c = temperature in celsius and f = temperature in fahrenheit ]\n",
    "temps = [-10,15,22,39,8,-22,29]\n",
    "\n",
    "## PART D\n",
    "allsubs = np.random.randint(1,1000,size=40)\n",
    "picker = np.random.randint(0,29,size=30)\n",
    "processed = []\n",
    "for i in picker:\n",
    "    processed.append(allsubs[i])\n",
    "# Allsubs is a list of subject IDs for subjects for whom scans have been collected.\n",
    "# Processed is a list of subject IDs for subjects who have been processed (with some)\n",
    "# duplicates. Find out how many and which subjects have not yet been processed, \n",
    "# append them to processed, and prove that all subject IDs have been accounted for"
   ]
  },
  {
   "cell_type": "code",
   "execution_count": null,
   "metadata": {
    "collapsed": false
   },
   "outputs": [],
   "source": [
    "# Don't look below until you've tried it a few times. The answers are in the next cell\n",
    "# You can always create a new cell above this one and use it as scratch space\n",
    "# If you mess up the variables, you can always rerun the cell above to reset them\n",
    "#\n",
    "#\n",
    "#\n",
    "#\n",
    "#\n",
    "#\n",
    "#\n",
    "#\n",
    "#\n",
    "#\n",
    "#\n",
    "#\n",
    "#\n",
    "#\n",
    "#\n",
    "#\n",
    "#\n",
    "#\n",
    "#\n",
    "#\n",
    "#\n",
    "#\n",
    "#\n",
    "#\n",
    "#\n",
    "#\n",
    "#\n",
    "#\n",
    "#\n"
   ]
  },
  {
   "cell_type": "code",
   "execution_count": null,
   "metadata": {
    "collapsed": false
   },
   "outputs": [],
   "source": [
    "######### ANSWERS TO EXERCISES 1 #############\n",
    "\n",
    "## PART A\n",
    "# For every item in tp_list, print the type of that item\n",
    "for item in tp_list:\n",
    "    print(type(item))\n",
    "\n",
    "## PART B\n",
    "# Using a FOR LOOP, create a dict object of key/value pairs where each key is the \n",
    "# index of the label, and refers to the label as its value.\n",
    "val_dict = {}\n",
    "for label,name in enumerate(roi_names):\n",
    "    val_dict.update({label: name})\n",
    "print(val_dict)\n",
    "\n",
    "## PART C\n",
    "# Convert each temperature to Fahrenheit and print the results.\n",
    "# Formula : c/5 = f-32/9 [ where c = temperature in celsius and f = temperature in fahrenheit ]\n",
    "for temp in temps:\n",
    "    far_tmp = (temp/5) * 9 + 32\n",
    "    print(far_tmp)\n",
    "    \n",
    "## PART D\n",
    "# Find out how many and which subjects have not yet been processed, \n",
    "unproc = list(set(allsubs) - set(processed))\n",
    "print(unproc,len(unproc))\n",
    "\n",
    "# append them to processed, \n",
    "for sid in unproc:\n",
    "    processed.append(sid)\n",
    "\n",
    "# and prove that all subject IDs have been accounted for\n",
    "print(set(allsubs)^set(processed))"
   ]
  },
  {
   "cell_type": "code",
   "execution_count": null,
   "metadata": {
    "collapsed": true
   },
   "outputs": [],
   "source": [
    "# Often times we would like to perform some sort of iteration but we \n",
    "# do not neccesarily have anything to iterate over. In this case, the\n",
    "# BUILT-IN FUNCTION range can be extremely useful. Lets have a look at\n",
    "# the docstring for range\n",
    "range?"
   ]
  },
  {
   "cell_type": "code",
   "execution_count": null,
   "metadata": {
    "collapsed": false
   },
   "outputs": [],
   "source": [
    "# As the docstring entails, we can use range to print a sequence of ordered\n",
    "# integers, and we can also define the starting integer, the stoping integer,\n",
    "# and the increment between integers at each step\n",
    "\n",
    "# Lets have a look at the output of iterating over a range as we tinker with\n",
    "# the arguments\n",
    "\n",
    "for i in range(10):\n",
    "    print(i)\n",
    "    \n",
    "print('\\n')\n",
    "\n",
    "for i in range(2,6):\n",
    "    print(i)\n",
    "\n",
    "print('\\n')\n",
    "\n",
    "for i in range(10,100,10):\n",
    "    print(i)\n",
    "\n",
    "print('\\n')\n",
    "# and range can of course go backwards\n",
    "for i in range(5,0,-1):\n",
    "    print(i)\n",
    "print('blastoff!!!')"
   ]
  },
  {
   "cell_type": "code",
   "execution_count": null,
   "metadata": {
    "collapsed": false
   },
   "outputs": [],
   "source": [
    "# This has many uses, often if you want to perform an operation a \n",
    "# certain number of times, of just work with integers in an ordered\n",
    "# sequence\n",
    "for i in range(10):\n",
    "    print(str(i)*i)\n",
    "\n",
    "print('\\n')\n",
    "    \n",
    "for i in range(1,11):\n",
    "    print(7*i)"
   ]
  },
  {
   "cell_type": "code",
   "execution_count": null,
   "metadata": {
    "collapsed": false
   },
   "outputs": [],
   "source": [
    "# In addition, you can nest FOR LOOPs within existing FOR LOOPS. This will\n",
    "# showcase the real power of automation, as I will use a pair of FOR LOOPS\n",
    "# to generate the multiplication table up to 10 for every number 1-9\n",
    "\n",
    "# Notice how the indentation (four spaces) indicates within which FOR LOOP\n",
    "# an operation will be performed. In this example, the operations on the\n",
    "# 2nd and last line will be performed 9 times, whereas the operation\n",
    "# on the 4th line will be performed 90 times\n",
    "\n",
    "for i in range(1,10):\n",
    "    print('multiplication table for %s'%(i))\n",
    "    for j in range(1,11):\n",
    "        print(i*j)\n",
    "    print('\\n')"
   ]
  },
  {
   "cell_type": "code",
   "execution_count": null,
   "metadata": {
    "collapsed": false
   },
   "outputs": [],
   "source": [
    "# one more thing to discuss before we jump into some exercises is how\n",
    "# to iterate dictionaries, because it works quite differently.\n",
    "\n",
    "# Observe what happens when we try to iterate through a dict in the same\n",
    "# way we iterate through a list:\n",
    "\n",
    "for item in val_dict:\n",
    "    print(item)"
   ]
  },
  {
   "cell_type": "code",
   "execution_count": null,
   "metadata": {
    "collapsed": false
   },
   "outputs": [],
   "source": [
    "# Only the key is printed. Ok sure, we could then use that to hash items in\n",
    "# the dict\n",
    "\n",
    "for key in val_dict:\n",
    "    print(key,val_dict[key])"
   ]
  },
  {
   "cell_type": "code",
   "execution_count": null,
   "metadata": {
    "collapsed": false
   },
   "outputs": [],
   "source": [
    "# However, we can also specify exactly what we want to iterate over by\n",
    "# calling on methods associated with the dict class. Observe:\n",
    "\n",
    "for key in val_dict.keys():\n",
    "    print(key)\n",
    "\n",
    "print('\\n')\n",
    "\n",
    "for val in val_dict.values():\n",
    "    print(val)\n",
    "\n",
    "print('\\n')\n",
    "    \n",
    "for item in val_dict.items(): # notice how the output of this is a tuple\n",
    "    print(item)\n",
    "\n",
    "print('\\n')\n",
    "    \n",
    "# as such, we can assign more than one variable in the FOR LOOP\n",
    "for key,value in val_dict.items():\n",
    "    print(key,value)"
   ]
  },
  {
   "cell_type": "code",
   "execution_count": null,
   "metadata": {
    "collapsed": true
   },
   "outputs": [],
   "source": [
    "###### EXERCISES 2 ######\n",
    "\n",
    "## PART 1\n",
    "# You're in the final round of an online scrabble tournament. For the final round,\n",
    "# letters are now worth the square of their normal point value. Here is there normal\n",
    "# point value:\n",
    "score = {\"a\": 1, \"c\": 3, \"b\": 3, \"e\": 1, \"d\": 2, \"g\": 2,\n",
    "         \"f\": 4, \"i\": 1, \"h\": 4, \"k\": 5, \"j\": 8, \"m\": 3,\n",
    "         \"l\": 1, \"o\": 1, \"n\": 1, \"q\": 10, \"p\": 3, \"s\": 1,\n",
    "         \"r\": 1, \"u\": 1, \"t\": 1, \"w\": 4, \"v\": 4, \"y\": 4,\n",
    "         \"x\": 8, \"z\": 10}\n",
    "# To aid you in figuring out the best letter combinations, update this dictionary so\n",
    "# the values represent the squared (**2) point value of each letter.\n",
    "\n",
    "# PART 2\n",
    "# Using FOR LOOP(s), print the Fibonacci series between 0 to 55.\n",
    "# Note : The Fibonacci Sequence is the series of numbers :\n",
    "# 0, 1, 1, 2, 3, 5, 8, 13, 21, .... \n",
    "# Every next number is found by adding up the two numbers before it.\n",
    "# NOTE: There are many solutions to this, but its PRETTY HARD!!\n"
   ]
  },
  {
   "cell_type": "code",
   "execution_count": null,
   "metadata": {
    "collapsed": true
   },
   "outputs": [],
   "source": [
    "# Don't look below until you've tried it a few times. The answers are in the next cell\n",
    "# You can always create a new cell above this one and use it as scratch space\n",
    "# If you mess up the variables, you can always rerun the cell above to reset them\n",
    "#\n",
    "#\n",
    "#\n",
    "#\n",
    "#\n",
    "#\n",
    "#\n",
    "#\n",
    "#\n",
    "#\n",
    "#\n",
    "#\n",
    "#\n",
    "#\n",
    "#\n",
    "#\n",
    "#\n",
    "#\n",
    "#\n",
    "#\n",
    "#\n",
    "#\n",
    "#\n",
    "#\n",
    "#\n",
    "#\n",
    "#\n",
    "#\n",
    "#\n"
   ]
  },
  {
   "cell_type": "code",
   "execution_count": null,
   "metadata": {
    "collapsed": false
   },
   "outputs": [],
   "source": [
    "### ANSWERS TO EXERCISES 2 ###\n",
    "\n",
    "# PART 1\n",
    "# update this dictionary so the values represent the squared value of the original\n",
    "# point value of each letter\n",
    "for k,v in score.items():\n",
    "    score.update({k: v**2})\n",
    "print(score)\n",
    "\n",
    "# Fibonacci Sequence.\n",
    "# There are many, many ways to do this, this is just one option. Try your own!\n",
    "a, b = 0, 1\n",
    "for i in range(0, 11):\n",
    "    print(a)\n",
    "    a, b = b, a + b\n",
    "    "
   ]
  },
  {
   "cell_type": "code",
   "execution_count": null,
   "metadata": {
    "collapsed": false
   },
   "outputs": [],
   "source": [
    "# There is another extremely important facet of iteration. Many times, when you are\n",
    "# performing an iterative process, you want to specify certain conditions. For example,\n",
    "# you may want to skip an operation if certain conditions are met, or, perhaps you want\n",
    "# to perform a different operation depending on certain conditions\n",
    "\n",
    "# For this, you use CONDITIONALS. But, before we talk about CONDITIONALS, we need to talk\n",
    "# about BOOLEANS\n",
    "\n",
    "# A BOOLEAN is a statement of truth or falsehood. \n",
    "print(type(True))\n",
    "print(type(False))"
   ]
  },
  {
   "cell_type": "code",
   "execution_count": null,
   "metadata": {
    "collapsed": false
   },
   "outputs": [],
   "source": [
    "# This truth or falsehood can be with reference to a mathematical statement...\n",
    "print(5>4)\n",
    "print(4>5)\n",
    "\n",
    "a = 2+1\n",
    "print(a==3) # the == is just how you say \"is equal to\". This is necessary because = is already used for variable definition\n",
    "print(a==4)"
   ]
  },
  {
   "cell_type": "code",
   "execution_count": null,
   "metadata": {
    "collapsed": false
   },
   "outputs": [],
   "source": [
    "# We can utilize the BOOLEAN value of a statement using CONDITIONALS.\n",
    "# CONDITIONALS are statements that use the words IF and ELSE. In other\n",
    "# words, IF a statement is TRUE, do x. If not (ELSE), do y\n",
    "\n",
    "a = 3\n",
    "print('a is equal to ',a)\n",
    "if a == 3:\n",
    "    print('a is three')\n",
    "else:\n",
    "    print('a is not three')\n",
    "\n",
    "\n",
    "print('\\n')\n",
    "a = 4\n",
    "print('now a is equal to',a)\n",
    "\n",
    "if a == 3:\n",
    "    print('a is three')\n",
    "else:\n",
    "    print('a is not three')"
   ]
  },
  {
   "cell_type": "code",
   "execution_count": null,
   "metadata": {
    "collapsed": false
   },
   "outputs": [],
   "source": [
    "# BOOLEANS can also be in reference to the existence or \"non-existence\" of something\n",
    "a = 3\n",
    "if a:\n",
    "    print('a exists')\n",
    "\n",
    "b = None\n",
    "if b:\n",
    "    print('b exists')\n"
   ]
  },
  {
   "cell_type": "code",
   "execution_count": null,
   "metadata": {
    "collapsed": false
   },
   "outputs": [],
   "source": [
    "# Notice how for b to not exist, I had to set it equal to \"None\"\n",
    "print(type(None))\n",
    "\n",
    "# Its a bit illogical, but in order for something to not exist (or more\n",
    "# accurately, be False), it must be defined. Otherwise Python will call\n",
    "# an error\n",
    "if c:\n",
    "    print('c exists')\n"
   ]
  },
  {
   "cell_type": "code",
   "execution_count": null,
   "metadata": {
    "collapsed": false
   },
   "outputs": [],
   "source": [
    "# The BOOLEAN status of objects can be represented in many ways. Most\n",
    "# variables are TRUE if they are defined. But there are some exceptions\n",
    "\n",
    "# To demonstrate this, I'm going to build a function that tests the\n",
    "# boolean value of an object. (We'll get into function building at\n",
    "# the end of Lesson 2)\n",
    "\n",
    "def test_bool(var_in):\n",
    "    if var_in:\n",
    "        print('the variable %s is True'%(var_in))\n",
    "    else:\n",
    "        print('this variable %s is False'%(var_in))\n"
   ]
  },
  {
   "cell_type": "code",
   "execution_count": null,
   "metadata": {
    "collapsed": false
   },
   "outputs": [],
   "source": [
    "# Now we'll test the truth value of several objects\n",
    "\n",
    "test_bool([\"I'm\",'a','list'])\n",
    "\n",
    "test_bool([])\n",
    "\n",
    "test_bool(1)\n",
    "\n",
    "test_bool(0)\n",
    "\n",
    "test_bool('I am string')\n",
    "\n",
    "test_bool('')\n",
    "\n",
    "test_bool(True)\n",
    "\n",
    "test_bool(False)"
   ]
  },
  {
   "cell_type": "code",
   "execution_count": null,
   "metadata": {
    "collapsed": false
   },
   "outputs": [],
   "source": [
    "# There are other operands you can add to a CONDITIONAL statement that can\n",
    "# add more detail to the conditions. First, there's \"and\" and \"or\". They\n",
    "# work in a very intuitive way. If a condition includes \"and\", then statements\n",
    "# on both sides of the \"and\" must be True, or the statement will be returned as\n",
    "# FALSE. \n",
    "\n",
    "a = 3\n",
    "print(a>0)\n",
    "print(a<5)\n",
    "if a > 0 and a < 5:\n",
    "    print('the statement is true')\n",
    "else:\n",
    "    print('the statement is false')\n",
    "\n",
    "\n",
    "a = 6\n",
    "print(a>0)\n",
    "print(a<5)\n",
    "if a > 0 and a < 5:\n",
    "    print('the statement is true')\n",
    "else:\n",
    "    print('the statement is false')\n",
    "\n",
    "\n",
    "\n"
   ]
  },
  {
   "cell_type": "code",
   "execution_count": null,
   "metadata": {
    "collapsed": false
   },
   "outputs": [],
   "source": [
    "# If a condition includes \"or\", then only one or the other statements\n",
    "# must be True in order for the statement to be returned as True.\n",
    "\n",
    "a = -3\n",
    "print(a>0)\n",
    "print(a == -3)\n",
    "\n",
    "if a > 0 or a == -3:\n",
    "    print('the statement is true')\n",
    "else:\n",
    "    print('the statement is false')\n",
    "\n",
    "a = -6\n",
    "print(a>0)\n",
    "print(a == -3)\n",
    "if a > 0 or a == -3:\n",
    "    print('the statement is true')\n",
    "else:\n",
    "    print('the statement is false')"
   ]
  },
  {
   "cell_type": "code",
   "execution_count": null,
   "metadata": {
    "collapsed": false
   },
   "outputs": [],
   "source": [
    "# you can combine as many as such arguments as you like\n",
    "a = 5\n",
    "\n",
    "if a < 0 and a>-5 or a>4 or a==999:\n",
    "    print('the statement is true')\n",
    "else:\n",
    "    print('the statement is false')"
   ]
  },
  {
   "cell_type": "code",
   "execution_count": null,
   "metadata": {
    "collapsed": false
   },
   "outputs": [],
   "source": [
    "# It is worth noting that you can also use the term != to mean\n",
    "# \"not equal to\"\n",
    "\n",
    "a = 4\n",
    "if a != 4:\n",
    "    print('the statement is true')\n",
    "else:\n",
    "    print('the statement is false')"
   ]
  },
  {
   "cell_type": "code",
   "execution_count": null,
   "metadata": {
    "collapsed": false
   },
   "outputs": [],
   "source": [
    "# Another extremely useful term for conditionals is \"in\". \"In\" will search\n",
    "# within a subscriptable (sequence) variable to see whether an object is\n",
    "# inside of it\n",
    "\n",
    "a_lst = [1,2,3,4,5,6,7]\n",
    "if 5 in a_lst:\n",
    "    print('the statement is true')\n",
    "else:\n",
    "    print('the statement is false')\n",
    "\n",
    "if 10 in a_lst:\n",
    "    print('the statement is true')\n",
    "else:\n",
    "    print('the statement is false')\n",
    "\n",
    "    \n",
    "a_str = 'bl_adni_002_S_4212_dob_09981945.nii.gz'\n",
    "\n",
    "if 'adni' and 'nii' in a_str:\n",
    "    print('the statement is true')\n",
    "else:\n",
    "    print('the statement is false')\n"
   ]
  },
  {
   "cell_type": "code",
   "execution_count": null,
   "metadata": {
    "collapsed": false
   },
   "outputs": [],
   "source": [
    "# For this and other purposes, you can also use the \"not\" term, which will\n",
    "# return True if the statement after the \"not\" is False\n",
    "\n",
    "if 6 not in a_lst:\n",
    "    print('the statement is true')\n",
    "else:\n",
    "    print('the statement is false')\n",
    "\n",
    "a = 5\n",
    "if not a<3:\n",
    "    print('the statement is true')\n",
    "else:\n",
    "    print('the statement is false')"
   ]
  },
  {
   "cell_type": "code",
   "execution_count": null,
   "metadata": {
    "collapsed": false
   },
   "outputs": [],
   "source": [
    "# One last thing to teach about CONDITIONALS is the ELIF command. ELIF is \n",
    "# useful if you want to specify several possible responses if a condition \n",
    "# is not met, instead of just a single response with ELSE.\n",
    "\n",
    "print(a_str)\n",
    "\n",
    "if 'm36' in a_str:\n",
    "    print('month 36')\n",
    "elif 'm24' in a_str:\n",
    "    print('month 24')\n",
    "else:\n",
    "    print('baseline')"
   ]
  },
  {
   "cell_type": "code",
   "execution_count": null,
   "metadata": {
    "collapsed": false
   },
   "outputs": [],
   "source": [
    "# Its also very easy to nest CONDITIONALS within other CONDITIONALS\n",
    "a = 10\n",
    "if a < 0:\n",
    "    print('a is negative')\n",
    "else:\n",
    "    if a > 16:\n",
    "        print('a is not a valid number')\n",
    "    elif a == 999:\n",
    "        print('a is missing')\n",
    "    else:\n",
    "        print('a is positive')"
   ]
  },
  {
   "cell_type": "code",
   "execution_count": null,
   "metadata": {
    "collapsed": false
   },
   "outputs": [],
   "source": [
    "# The purpose of learning all this is to incorporate CONDITIONALS into FOR \n",
    "# LOOPS. Using both CONDITIONALS and FOR LOOPs, we can put together functions\n",
    "# that can quickly perform tasks and discriminate different conditions.\n",
    "\n",
    "# For example, here, I will use FOR LOOPs and CONDITIONALS to print whether\n",
    "# integers between 1 and 10 are odd or even\n",
    "\n",
    "for i in range(1,11):\n",
    "    if i%2 == 0:\n",
    "        print('%s is an even number'%(i))\n",
    "    else:\n",
    "        print('%s is an odd number'%(i))\n",
    "\n",
    "\n",
    "# Here, I will iterate through a list and only print each item if the item is of\n",
    "# the string class\n",
    "print('\\n')\n",
    "r_lst = [1,2.3,'fuck',['iguana','aqua','happy'],'Donald',[0,3,4],4.444,['six'],(2,3,'may'),'Trump']\n",
    "for item in r_lst:\n",
    "    if type(item) == str:\n",
    "        print(item)"
   ]
  },
  {
   "cell_type": "code",
   "execution_count": null,
   "metadata": {
    "collapsed": false
   },
   "outputs": [],
   "source": [
    "######## EXERCISES 3 ############\n",
    "\n",
    "## PART A\n",
    "# Print all numbers between 1500 and 2700 (both included) which are divisible \n",
    "# by 7 and multiple of 5\n",
    "\n",
    "## PART B\n",
    "s_ids = []\n",
    "for i in range(100):\n",
    "    s_id = '/home/all_subjects/%0.3d_%0.4d.nii'%(np.random.randint(1,4),np.random.randint(1,10000))\n",
    "    s_ids.append(s_id)\n",
    "# s_ids is a list of paths to neuroimages of different subjects. The subject IDs are\n",
    "# set up in the following format: 00Y_XXXX, where Y refers to one of three \"sites\", \n",
    "# and XXXX is the actual subject identifier. Make three containers, one for each site,\n",
    "# 1 = Montreal, 2 = Amsterdam, 3 = Berkeley. Then, sort the subjects into these\n",
    "# containers based on the site identifier in their s_id (but only the ID, do not\n",
    "# include the entire path!). Finally, report how many images are from each site.\n",
    "\n",
    "\n",
    "## PART C\n",
    "# Below are a list of tuples. Within each tuple is a set of three numbers. These\n",
    "# three numbers are lengths of the sides of a triangle. Iterate through each tuple,\n",
    "# and if the triangle is valid, print \"triangle x is valid\", where x is corresponds\n",
    "# to which iteration you are on. \n",
    "# Hint: to check a triangle is valid or not, the sum of any two sides must always\n",
    "# be greater than the third side\n",
    "triangles = [(7,10,5),(5,4,6),(2,2,6),(110,140,260),(83,30,56)]\n",
    "\n",
    "\n"
   ]
  },
  {
   "cell_type": "code",
   "execution_count": null,
   "metadata": {
    "collapsed": true
   },
   "outputs": [],
   "source": [
    "# Don't look below until you've tried it a few times. The answers are in the next cell\n",
    "# You can always create a new cell above this one and use it as scratch space\n",
    "# If you mess up the variables, you can always rerun the cell above to reset them\n",
    "#\n",
    "#\n",
    "#\n",
    "#\n",
    "#\n",
    "#\n",
    "#\n",
    "#\n",
    "#\n",
    "#\n",
    "#\n",
    "#\n",
    "#\n",
    "#\n",
    "#\n",
    "#\n",
    "#\n",
    "#\n",
    "#\n",
    "#\n",
    "#\n",
    "#\n",
    "#\n",
    "#\n",
    "#\n",
    "#\n",
    "#\n",
    "#\n",
    "#\n"
   ]
  },
  {
   "cell_type": "code",
   "execution_count": null,
   "metadata": {
    "collapsed": false
   },
   "outputs": [],
   "source": [
    "###### Answers to exercises 3 ##########\n",
    "\n",
    "## PART A\n",
    "# Print all numbers between 1500 and 2700 (both included) which are divisible \n",
    "# by 7 and multiple of 5\n",
    "for i in range(1500,2701):\n",
    "    if i % 5 == 0 and i % 7 == 0:\n",
    "        print(i)\n",
    "\n",
    "## PART B\n",
    "# Make three containers, one for each site\n",
    "Mtl,Ams,Bkly = [],[],[]\n",
    "# sort the subjects into these containers based on the site identifier in their s_id\n",
    "for pth in s_ids:\n",
    "    s_id = pth.split('/')[-1].split('.')[0]\n",
    "    site = s_id.split('_')[0]\n",
    "    if int(site) == 1:\n",
    "        Mtl.append(s_id)\n",
    "    elif int(site) == 2:\n",
    "        Ams.append(s_id)\n",
    "    else:\n",
    "        Bkly.append(s_id)\n",
    "# report how many images are from each site.\n",
    "print(len(Mtl),len(Ams),len(Bkly))\n",
    "\n",
    "## Part C\n",
    "# Iterate through each tuple, and if the triangle is valid, print \"triangle x is valid\"\n",
    "for i,tri in enumerate(triangles):\n",
    "    sa,sb,sc = tri[0],tri[1],tri[2]\n",
    "    if sa+sb > sc and sa+sc > sb and sb+sc > sa:\n",
    "        print('triangle %s is valid'%(i))\n"
   ]
  },
  {
   "cell_type": "code",
   "execution_count": null,
   "metadata": {
    "collapsed": false
   },
   "outputs": [],
   "source": [
    "# Okay, so now a few more tricks with iteration and CONDITIONALS that may\n",
    "# become useful. There are a few terms that can be used within loops that\n",
    "# can help control what's happening. One of those terms is \"continue\".\n",
    "\n",
    "# If Python sees \"continue\", it will stop what it's doing and go to the\n",
    "# the next iteration of the loop. Here is an example, where I will print\n",
    "# odd integers between 1 and 10, but tell Python to *continue* if it hits\n",
    "# an even number.\n",
    "\n",
    "for i in range(10):\n",
    "    if i%2 > 0:\n",
    "        print(i)\n",
    "    else:\n",
    "        continue\n",
    "\n"
   ]
  },
  {
   "cell_type": "code",
   "execution_count": null,
   "metadata": {
    "collapsed": false
   },
   "outputs": [],
   "source": [
    "# Of course, you could accomplish this same goal without using \"continue\" and\n",
    "# skip a few lines by just not putting in an ELSE clause\n",
    "\n",
    "for i in range(10):\n",
    "    if i%2 > 0:\n",
    "        print(i)\n",
    "# But there are times when it can be used. For example, it is sometimes preferable\n",
    "# to deeply nested loops."
   ]
  },
  {
   "cell_type": "code",
   "execution_count": null,
   "metadata": {
    "collapsed": false
   },
   "outputs": [],
   "source": [
    "# Similar to \"continue\" is the term \"pass\". When Python sees \"pass\", it will move\n",
    "# onto the next line (as opposed to \"continue\", which goes to the next *iteration*)\n",
    "# See the difference:\n",
    "\n",
    "for i in range(10):\n",
    "    if i%2 > 0:\n",
    "        print(i)\n",
    "    else:\n",
    "        continue\n",
    "    print('I have now calculated the oddness of the number %s'%i)\n",
    "    \n",
    "print('\\n')\n",
    "\n",
    "    \n",
    "for i in range(10):\n",
    "    if i%2 > 0:\n",
    "        print(i)\n",
    "    else:\n",
    "        pass\n",
    "    print('I have now calculated the oddness of the number %s'%i)\n",
    "    \n",
    "\n",
    "# When we use \"continue\", the iteration stops right there and moves to the\n",
    "# next iteration. When we use \"pass\" instead, the iteration will finish the\n",
    "# iteration."
   ]
  },
  {
   "cell_type": "code",
   "execution_count": null,
   "metadata": {
    "collapsed": false
   },
   "outputs": [],
   "source": [
    "# One last phrase to know is \"break\". If Python sees \"break\", it will end\n",
    "# the entire loop, right then and there.\n",
    "\n",
    "for i in range(10):\n",
    "    if i < 5:\n",
    "        print(i)\n",
    "    else:\n",
    "        break\n"
   ]
  },
  {
   "cell_type": "code",
   "execution_count": null,
   "metadata": {
    "collapsed": false
   },
   "outputs": [],
   "source": [
    "# I'll now run one more simple iteration to highlight the differences between\n",
    "# these three terms\n",
    "\n",
    "for i in range(10):\n",
    "    if i < 5 or i > 8:\n",
    "        print(i)\n",
    "    else:\n",
    "        pass\n",
    "    print('mississipi')\n",
    "    \n",
    "print('\\n')    \n",
    "\n",
    "for i in range(10):\n",
    "    if i < 5 or i > 8:\n",
    "        print(i)\n",
    "    else:\n",
    "        continue\n",
    "    print('mississipi')\n",
    "\n",
    "print('\\n')\n",
    "    \n",
    "for i in range(10):\n",
    "    if i < 5 or i > 8:\n",
    "        print(i)\n",
    "    else:\n",
    "        break\n",
    "    print('mississipi')\n"
   ]
  },
  {
   "cell_type": "code",
   "execution_count": null,
   "metadata": {
    "collapsed": false
   },
   "outputs": [],
   "source": [
    "# Another type of iteration that is important to know about is the WHILE loop.\n",
    "# This one can be a bit scary sometimes becaues you can enter an infinite loop\n",
    "# easily if you're not careful. If you ever enter an infinite loop, you can\n",
    "# just hit the stop button (or Ctrl+C if you're using iPython).\n",
    "\n",
    "# WHILE loops are sort of like CONDITIONALS. However, as long as a statement is\n",
    "# True, the loop will continue forever. That means that the WHILE loop must \n",
    "# either have a stop point determined inside of the loop, or, something must\n",
    "# occur within the loop that makes the conditional statement become False.\n",
    "\n",
    "a = 0\n",
    "b = 10\n",
    "while a < b:\n",
    "    print('Jake!')\n",
    "    a = a+1"
   ]
  },
  {
   "cell_type": "code",
   "execution_count": null,
   "metadata": {
    "collapsed": false
   },
   "outputs": [],
   "source": [
    "# You can also stick an ELSE clause at the end of a WHILE loop. This will tell\n",
    "# the loop what to do once the statement finally becomes False.\n",
    "\n",
    "count = 0\n",
    "while count < 5:\n",
    "    print(count, \"is  less than 5\")\n",
    "    count = count + 1\n",
    "else:\n",
    "    print(count, \"is not less than 5\")"
   ]
  },
  {
   "cell_type": "code",
   "execution_count": null,
   "metadata": {
    "collapsed": false
   },
   "outputs": [],
   "source": [
    "# One common place to see WHILE loops is in functions involving user input\n",
    "\n",
    "password = \"\"\n",
    "while password != \"secret\":\n",
    "    password = input(\"Please enter the password: \")\n",
    "    if password == \"secret\":\n",
    "        print(\"Thank you. You have entered the correct password\")\n",
    "    else:\n",
    "        print(\"Sorry the value entered in incorrect - try again\")"
   ]
  },
  {
   "cell_type": "code",
   "execution_count": null,
   "metadata": {
    "collapsed": false
   },
   "outputs": [],
   "source": [
    "# Before the exercises, I want to touch on one last thing that may prove \n",
    "# useful when building loops and functions: TRY and EXCEPT. This works\n",
    "# in a similar way to IF and ELSE, but rather than testing if a statement\n",
    "# is True, it tests when a statement is valid (in other words, whether a\n",
    "# statement would throw an error or not)\n",
    "\n",
    "# Here is an example.\n",
    "\n",
    "lst = [0,4,10]\n",
    "intr = 450\n",
    "\n",
    "try:\n",
    "    lst[0]\n",
    "    print('Indexing a list is a valid operation')\n",
    "except:\n",
    "    print('it was invalid to try to index a list')\n",
    "\n",
    "try:\n",
    "    intr[0]\n",
    "    print('Indexing an integer is a valid operation')\n",
    "except:\n",
    "    print('it was invalid to try to index an integer')\n",
    "\n",
    "# This is great because it can prevent your loop from hanging up on\n",
    "# an error"
   ]
  },
  {
   "cell_type": "code",
   "execution_count": null,
   "metadata": {
    "collapsed": true
   },
   "outputs": [],
   "source": [
    "#### Exercises 4####\n",
    "\n",
    "## PART A\n",
    "# Print all the numbers from 0 to 6 except 3 and 6.\n",
    "# Note : Use 'continue' statement. \n",
    "\n",
    "## PART B\n",
    "# I've got $5000 in my savings account. My account has 2.93% annual interest (in\n",
    "# other words, that amount increases by 2.93% every year). Using a WHILE loop,\n",
    "# determine how many years it would take for my $5000 to double.\n",
    "\n",
    "## PART C\n",
    "# Write a function where a user must enter a number between 10 and 20. If they\n",
    "# enter a number that doesn't fit that criteria, it should say \"Sorry, you must\n",
    "# enter a number between 10 and 20!\". If they don't put an integer, it should\n",
    "# say, \"Please provide an *integer* between 10 and 20\". Finally, once they \n",
    "# do, print \"Thank you!\""
   ]
  },
  {
   "cell_type": "code",
   "execution_count": null,
   "metadata": {
    "collapsed": true
   },
   "outputs": [],
   "source": [
    "# Don't look below until you've tried it a few times. The answers are in the next cell\n",
    "# You can always create a new cell above this one and use it as scratch space\n",
    "# If you mess up the variables, you can always rerun the cell above to reset them\n",
    "#\n",
    "#\n",
    "#\n",
    "#\n",
    "#\n",
    "#\n",
    "#\n",
    "#\n",
    "#\n",
    "#\n",
    "#\n",
    "#\n",
    "#\n",
    "#\n",
    "#\n",
    "#\n",
    "#\n",
    "#\n",
    "#\n",
    "#\n",
    "#\n",
    "#\n",
    "#\n",
    "#\n",
    "#\n",
    "#\n",
    "#\n",
    "#\n",
    "#\n"
   ]
  },
  {
   "cell_type": "code",
   "execution_count": null,
   "metadata": {
    "collapsed": false
   },
   "outputs": [],
   "source": [
    "### Answers to exercises 4 ######\n",
    "\n",
    "# PART A\n",
    "# Prints all the numbers from 0 to 6 except 3 and 6.\n",
    "for i in range(7):\n",
    "    if i == 6 or i == 3:\n",
    "        continue\n",
    "    else:\n",
    "        print(i)\n",
    "\n",
    "## PART B\n",
    "# I've got $5000 in my savings account. My account has 2.93% annual interest\n",
    "# Determine how many years it would take for my $5000 to double.\n",
    "amount = 5000\n",
    "interest = 0.0293\n",
    "counter = 0\n",
    "while amount < 10000:\n",
    "    counter = counter + 1\n",
    "    amount = amount + amount * interest\n",
    "else:\n",
    "    print('it took %s years'%counter)\n",
    "\n",
    "##PART C\n",
    "# Write a function where a user must enter a number between 10 and 20.\n",
    "invalid = True\n",
    "while invalid:\n",
    "    number = input(\"Please enter a number in the range 10 to 20: \")\n",
    "    try:\n",
    "        number = int(number)\n",
    "        if number >= 10 and number <= 20:\n",
    "            invalid = False\n",
    "        else:\n",
    "            print(\"Sorry, you must enter a number between 10 and 20! ...dummy\")\n",
    "            print(\"Please try again\")        \n",
    "    except:\n",
    "        print('Please provide an *integer* between 10 and 20, not a %s, dummy'%type(number))\n",
    "\n",
    "\n",
    "print(\"Thank you. You have satisfied my integer craving\")"
   ]
  },
  {
   "cell_type": "code",
   "execution_count": null,
   "metadata": {
    "collapsed": false
   },
   "outputs": [],
   "source": [
    "# There are many other things to learn about efficiently iterating in Python.\n",
    "# But this is a good place to start. I will teach you one last thing in this \n",
    "# lesson, which is how to build a simple function.\n",
    "\n",
    "# We have run into MANY functions. Think of print(), type(), list(), etc. We \n",
    "# know that each function has a name, arguments, and some kind of output or \n",
    "# result.\n",
    "\n",
    "# It is actually quite simple to build our own functions. There are a few\n",
    "# special terms, but otherwise it builds on what you already know. Here\n",
    "# is how a function is laid out\n",
    "\n",
    "# def function_name(argument1,argument2,argument3=default_input):\n",
    "#    operations\n",
    "#    ...\n",
    "#    ...\n",
    "#    ...\n",
    "#    return desired_output (or print(desired_output))\n"
   ]
  },
  {
   "cell_type": "code",
   "execution_count": null,
   "metadata": {
    "collapsed": true
   },
   "outputs": [],
   "source": [
    "# Here is an example. I will write a function that accepts a string and\n",
    "# calculates the number of digits and letters are inside of it\n",
    "\n",
    "def str_parser(in_str):\n",
    "    \n",
    "    letters = []\n",
    "    numbers = []\n",
    "    for x in in_str:\n",
    "        try:\n",
    "            int(x)\n",
    "            numbers.append(x)\n",
    "        except:\n",
    "            letters.append(x)\n",
    "    \n",
    "    print('this string has %s letters and %s numbers'%(len(letters),\n",
    "                                                       len(numbers))) \n",
    "    \n",
    "    \n",
    "    "
   ]
  },
  {
   "cell_type": "code",
   "execution_count": null,
   "metadata": {
    "collapsed": false
   },
   "outputs": [],
   "source": [
    "# Now that we have defined str_parser, it exists within the Python namespace,\n",
    "# and you can use it just like you would use print() or type()\n",
    "str_parser('T8b0g0n')"
   ]
  },
  {
   "cell_type": "code",
   "execution_count": null,
   "metadata": {
    "collapsed": true
   },
   "outputs": [],
   "source": [
    "# Perhaps we don't want to print the output, but instead save it as a variable.\n",
    "# In that case, we would use the return function\n",
    "\n",
    "def str_parser(in_str):\n",
    "    \n",
    "    letters = []\n",
    "    numbers = []\n",
    "    for x in in_str:\n",
    "        try:\n",
    "            int(x)\n",
    "            numbers.append(x)\n",
    "        except:\n",
    "            letters.append(x)\n",
    "    \n",
    "    return len(letters),len(numbers)\n",
    "    \n"
   ]
  },
  {
   "cell_type": "code",
   "execution_count": null,
   "metadata": {
    "collapsed": false
   },
   "outputs": [],
   "source": [
    "# Now we can set str_parser equal to a new variable, and the new variables will\n",
    "# be defined as the output of str_parser\n",
    "\n",
    "letz,numz = str_parser('T8b0g0n')\n",
    "print(letz,numz)"
   ]
  },
  {
   "cell_type": "code",
   "execution_count": null,
   "metadata": {
    "collapsed": true
   },
   "outputs": [],
   "source": [
    "# Perhaps we want to add another feature where the function judges whether the\n",
    "# string is cool or not. We want this function to have a default argument (i.e\n",
    "# if it is not defined by the user, the function will still run)\n",
    "\n",
    "def str_parser(in_str,judgement='random'):\n",
    "    \n",
    "    letters = []\n",
    "    numbers = []\n",
    "    for x in in_str:\n",
    "        try:\n",
    "            int(x)\n",
    "            numbers.append(x)\n",
    "        except:\n",
    "            letters.append(x)\n",
    "    \n",
    "    if judgement == 'nice':\n",
    "        print('wow, that was a great string you entered there')\n",
    "    elif judgement == 'mean':\n",
    "        print('that string sucked. you suck.')\n",
    "    elif judgement == 'random':\n",
    "        choice = np.random.randint(0,2)\n",
    "        if choice == 0:\n",
    "            print('wow, that was a great string you entered there')\n",
    "        if choice == 1:\n",
    "            print('wow, that was a great string you entered there')\n",
    "    \n",
    "    return len(letters),len(numbers)"
   ]
  },
  {
   "cell_type": "code",
   "execution_count": null,
   "metadata": {
    "collapsed": false
   },
   "outputs": [],
   "source": [
    "# Now let's give it a try!\n",
    "str_parser('dr890n')\n",
    "str_parser('dr890n','mean')\n",
    "str_parser('dr890n','nice')\n",
    "\n"
   ]
  },
  {
   "cell_type": "code",
   "execution_count": null,
   "metadata": {
    "collapsed": false
   },
   "outputs": [],
   "source": [
    "# Looks good. But we have a few problems. First, what if we enter something\n",
    "# for the judgement argument that the function doesn't understand?\n",
    "str_parser('dr890n',judgement='canadian')"
   ]
  },
  {
   "cell_type": "code",
   "execution_count": null,
   "metadata": {
    "collapsed": true
   },
   "outputs": [],
   "source": [
    "# No judgement occured. But how is the user supposed to know what went wrong,\n",
    "# or what is a valid argument? We can address this in two ways. The first is we\n",
    "# can add our own error with the Raise command. \n",
    "\n",
    "def str_parser(in_str,judgement='random'):\n",
    "    \n",
    "    letters = []\n",
    "    numbers = []\n",
    "    for x in in_str:\n",
    "        try:\n",
    "            int(x)\n",
    "            numbers.append(x)\n",
    "        except:\n",
    "            letters.append(x)\n",
    "    \n",
    "    if judgement == 'nice':\n",
    "        print('wow, that was a great string you entered there')\n",
    "    elif judgement == 'mean':\n",
    "        print('that string sucked. you suck.')\n",
    "    elif judgement == 'random':\n",
    "        choice = np.random.randint(0,2)\n",
    "        if choice == 0:\n",
    "            print('wow, that was a great string you entered there')\n",
    "        if choice == 1:\n",
    "            print('wow, that was a great string you entered there')\n",
    "#### HERE IS THE ADDITION####\n",
    "    else:\n",
    "        raise NameError('argument for judgement must be either nice, mean or random')\n",
    "#############################  \n",
    "    return len(letters),len(numbers)"
   ]
  },
  {
   "cell_type": "code",
   "execution_count": null,
   "metadata": {
    "collapsed": false
   },
   "outputs": [],
   "source": [
    "str_parser('dr890n','canadian')\n",
    "# Yay! Now are error is even more specific, and has instructions!"
   ]
  },
  {
   "cell_type": "code",
   "execution_count": null,
   "metadata": {
    "collapsed": true
   },
   "outputs": [],
   "source": [
    "# One other thing that is very important for any function (particularly)\n",
    "# one that someone else may use) is to provide a docstring. This is also\n",
    "# quite easy to do. Just indent some text, surrounded by two sets of three\n",
    "# quotation marks '''like this''', just under the definition statement.\n",
    "\n",
    "def str_parser(in_str,judgement='random'):\n",
    "    '''str_parser takes a string and will return (as a tuple) the number of letters and\n",
    "    digits in that string. The second argument (judgement) will control how str_parser\n",
    "    \"reacts\" to the argument in_str. Only arguments of 'nice', 'mean' or 'random' are\n",
    "    acceptable.'''\n",
    "    \n",
    "    letters = []\n",
    "    numbers = []\n",
    "    for x in in_str:\n",
    "        try:\n",
    "            int(x)\n",
    "            numbers.append(x)\n",
    "        except:\n",
    "            letters.append(x)\n",
    "    \n",
    "    if judgement == 'nice':\n",
    "        print('wow, that was a great string you entered there')\n",
    "    elif judgement == 'mean':\n",
    "        print('that string sucked. you suck.')\n",
    "    elif judgement == 'random':\n",
    "        choice = np.random.randint(0,2)\n",
    "        if choice == 0:\n",
    "            print('wow, that was a great string you entered there')\n",
    "        if choice == 1:\n",
    "            print('wow, that was a great string you entered there')\n",
    "#### HERE IS THE ADDITION####\n",
    "    else:\n",
    "        raise NameError('argument for judgement must be either nice, mean or random')\n",
    "#############################  \n",
    "    return len(letters),len(numbers)"
   ]
  },
  {
   "cell_type": "code",
   "execution_count": null,
   "metadata": {
    "collapsed": true
   },
   "outputs": [],
   "source": [
    "# Now we can assess the docstring of str_parser just like we would any other \n",
    "# function -- by using a ?\n",
    "str_parser?"
   ]
  },
  {
   "cell_type": "code",
   "execution_count": null,
   "metadata": {
    "collapsed": true
   },
   "outputs": [],
   "source": [
    "# It is not necessary to create docstrings for simple functions you create when coding\n",
    "# interactively. HOWEVER, documentation is one of the most important aspects of coding.\n",
    "# Period. Any time you write a script, you will want to properly document each function\n",
    "# you create for many reasons. \n",
    "\n",
    "# 1) Other people may want to use your script and may not know how. Save them time by \n",
    "# just explaining how it works and why certain decisions were made\n",
    "\n",
    "# 2) Sometimes YOU will want to use a script you wrote a long time ago, and will not \n",
    "# remember how it works. Trust me, this happens all the time. Just save yourself some\n",
    "# time up front by getting used to documentation. Not just docstrings, but also \n",
    "# comments within the function that explain what is going on for different sub-funcitons,\n",
    "# or why you made certain coding decisions."
   ]
  },
  {
   "cell_type": "code",
   "execution_count": null,
   "metadata": {
    "collapsed": true
   },
   "outputs": [],
   "source": [
    "########## EXERCISES 5 ############\n",
    "\n",
    "# REMEMBER! In order for a function to work, you need to define it and then RUN THE\n",
    "# CELL. After you run the cell once, the function will exist in your NAMESPACE\n",
    "\n",
    "## PART A\n",
    "# Write a Python program to calculate a dog's age in \"dog years\". The function\n",
    "# should accept a dog's age in human years as an argument, and should *print* the\n",
    "# the equivalent age in \"dog years\"\n",
    "# Note: For the first two years, a dog year is equal to 10.5 human years. \n",
    "# After that, each dog year equals 4 human years.\n",
    "\n",
    "## PART B\n",
    "# Write a Python program to check if a triangle is equilateral, isosceles or \n",
    "# scalene. The argument should accept a tuple or list of three numbers which \n",
    "# represent the length of the sides of the triangle. If the user inputs a tuple\n",
    "# or list where len() != 3, the function should throw a specific error. The\n",
    "# function should *return* the answer, rather than print it.\n",
    "# Note :\n",
    "# An equilateral triangle is a triangle in which all three sides are equal.\n",
    "# A scalene triangle is a triangle that has three unequal sides.\n",
    "# An isosceles triangle is a triangle with (at least) two equal sides.\n",
    "\n",
    "## PART C\n",
    "# Scrabble is a game where players get points by spelling words. Words are scored \n",
    "# by adding together the point values of each individual letter. Define a function \n",
    "# scrabble_score that takes a string word as input and prints the equivalent scrabble \n",
    "# score for that word. Also, include an optional argument that allows the argument to\n",
    "# instead calculate the score if the square of the point value is instead used (see\n",
    "# Exercises 2 Part 1, above). Add docstring explaining how the function works.\n",
    "score = {\"a\": 1, \"c\": 3, \"b\": 3, \"e\": 1, \"d\": 2, \"g\": 2,\n",
    "         \"f\": 4, \"i\": 1, \"h\": 4, \"k\": 5, \"j\": 8, \"m\": 3,\n",
    "         \"l\": 1, \"o\": 1, \"n\": 1, \"q\": 10, \"p\": 3, \"s\": 1,\n",
    "         \"r\": 1, \"u\": 1, \"t\": 1, \"w\": 4, \"v\": 4, \"y\": 4,\n",
    "         \"x\": 8, \"z\": 10}\n",
    "\n",
    "## PART D\n",
    "# Write a Python program to check the validity of password input by users. Rather than\n",
    "# take an argument, the program should prompt the user to enter a password.\n",
    "# Validation :\n",
    "# At least 1 letter between [a-z] and 1 letter between [A-Z].\n",
    "# At least 1 number between [0-9].\n",
    "# At least 1 character from [$,#,@,!,_,&].\n",
    "# Minimum length 6 characters.\n",
    "# Maximum length 16 characters.\n",
    "# HINT: It is not necessary, but you may want to look up the BUILT-IN FUNCTION \"ANY\". It\n",
    "# might save you some time\n",
    "# !!!!!!WARNING!!!!!! PLEASE DO NOT ENTER ANY ACTUAL PASSWORDS YOU USE INTO THIS FUNCTION\n",
    "\n",
    "## PART E\n",
    "# Create your own function. It doesn't happen to be super complicated, but be creative!\n",
    "# Be prepared to share your function with the class! :-D"
   ]
  },
  {
   "cell_type": "code",
   "execution_count": null,
   "metadata": {
    "collapsed": true
   },
   "outputs": [],
   "source": [
    "# Don't look below until you've tried it a few times. The answers are in the next cell\n",
    "# You can always create a new cell above this one and use it as scratch space\n",
    "# If you mess up the variables, you can always rerun the cell above to reset them\n",
    "#\n",
    "#\n",
    "#\n",
    "#\n",
    "#\n",
    "#\n",
    "#\n",
    "#\n",
    "#\n",
    "#\n",
    "#\n",
    "#\n",
    "#\n",
    "#\n",
    "#\n",
    "#\n",
    "#\n",
    "#\n",
    "#\n",
    "#\n",
    "#\n",
    "#\n",
    "#\n",
    "#\n",
    "#\n",
    "#\n",
    "#\n",
    "#\n",
    "#\n"
   ]
  },
  {
   "cell_type": "code",
   "execution_count": null,
   "metadata": {
    "collapsed": false
   },
   "outputs": [],
   "source": [
    "### ANSWERS TO EXERCISES 5 ######\n",
    "\n",
    "\n",
    "## PART A\n",
    "# Write a Python program to calculate a dog's age in \"dog years\".\n",
    "def dog_yrs(years):\n",
    "    \n",
    "    if years <= 2:\n",
    "        d_years = years * 10.5\n",
    "    else:\n",
    "        years = years - 2\n",
    "        d_years = years*4 + 21\n",
    "    \n",
    "    print('this dog is %s years old in dog years!'%(d_years))\n",
    "\n",
    "dog_yrs(13)\n",
    "dog_yrs(1.8)\n",
    "\n",
    "\n",
    "## PART B\n",
    "# Write a Python program to check if a triangle is equilateral, isosceles or \n",
    "# scalene.\n",
    "\n",
    "def tri_test(sides):\n",
    "    \n",
    "    if type(sides) != list and type(sides) != tuple:\n",
    "        raise TypeError('sides must be a list or tuple')\n",
    "    else:\n",
    "        if not len(sides) == 3:\n",
    "            raise ValueError('sides must be a list or tuple with length 3')\n",
    "    \n",
    "    # pull out sides from tuple/list\n",
    "    sa,sb,sc = sides[0],sides[1],sides[2]\n",
    "    \n",
    "    # test validity of triange (not part og the assignment)\n",
    "    if sa+sb > sc and sa+sc > sb and sb+sc > sa:\n",
    "        # test triangle types\n",
    "        if sa == sb and sa == sc:\n",
    "            tri_type = 'equilateral'\n",
    "        elif sa != sb and sb != sc and sb != sc:\n",
    "            tri_type = 'scalene'\n",
    "        else:\n",
    "            tri_type = 'isoscelese'\n",
    "    else:\n",
    "        tri_type = 'invalid'\n",
    "    \n",
    "    return tri_type\n",
    "    \n",
    "print(tri_test([40,40,40]))\n",
    "print(tri_test((40,40,50)))\n",
    "print(tri_test([40,50,60]))\n",
    "print(tri_test([30,30,150]))\n",
    "#print(tri_test([30,30]))\n",
    "\n",
    "\n",
    "## PART C\n",
    "# Define a function scrabble_score that takes a string word as input and prints \n",
    "# the equivalent scrabble score for that word.\n",
    "\n",
    "def scrabble_score(in_str,scoring='standard'):\n",
    "    '''scrabble_score accepts a string word and outputs the scrabble score of that\n",
    "    word. If you want the letter scores to be squared, set scoring to 'squared'. \n",
    "    scoring can only be set to 'standard' and 'squared'  '''\n",
    "    \n",
    "    \n",
    "    if scoring != 'standard' and scoring != 'square':\n",
    "        raise NameError('argument scoring must be set to standard or square')\n",
    "    \n",
    "    score = {\"a\": 1, \"c\": 3, \"b\": 3, \"e\": 1, \"d\": 2, \"g\": 2,\n",
    "         \"f\": 4, \"i\": 1, \"h\": 4, \"k\": 5, \"j\": 8, \"m\": 3,\n",
    "         \"l\": 1, \"o\": 1, \"n\": 1, \"q\": 10, \"p\": 3, \"s\": 1,\n",
    "         \"r\": 1, \"u\": 1, \"t\": 1, \"w\": 4, \"v\": 4, \"y\": 4,\n",
    "         \"x\": 8, \"z\": 10}\n",
    "    \n",
    "    wscore = 0\n",
    "    \n",
    "    for letter in in_str:\n",
    "        let_score = score[letter]\n",
    "        if scoring == 'standard':\n",
    "            wscore = wscore + let_score\n",
    "        else:\n",
    "            wscore = wscore + let_score**2\n",
    "            \n",
    "    print(wscore)\n",
    "\n",
    "#scrabble_score?\n",
    "scrabble_score('jacob')\n",
    "scrabble_score('jacob','square')\n",
    "\n",
    "\n",
    "## PART D\n",
    "# Write a Python program to check the validity of password input by users.\n",
    "\n",
    "def pass_check():\n",
    "    \n",
    "    valid = False\n",
    "    syms = ['$','#','@','!','_','&']\n",
    "    \n",
    "    while not valid:\n",
    "        pw = input(\"Please enter your desired password: \")\n",
    "        if not any(x.isupper() for x in pw):\n",
    "            print('password unacceptable. Uppercase letter needed')\n",
    "            continue\n",
    "        if not any(x.islower() for x in pw):\n",
    "            print('password unacceptable. Lowercase letter needed')\n",
    "            continue\n",
    "        if not any(x.isdigit() for x in pw):\n",
    "            print('password unacceptable. Number needed')\n",
    "            continue\n",
    "        if len(set(syms) & set(pw)) < 1:\n",
    "            print('password unacceptable. Must include $, #, @, !, _, or &')\n",
    "            continue\n",
    "        if len(pw) < 7 or len(pw) > 16:\n",
    "            print('password unacceptable. Length must be > 6 characters but < 16')\n",
    "            continue\n",
    "        valid = True\n",
    "    \n",
    "    print('the password is valid. Thank you!')\n",
    "\n",
    "pass_check()"
   ]
  },
  {
   "cell_type": "code",
   "execution_count": null,
   "metadata": {
    "collapsed": true
   },
   "outputs": [],
   "source": [
    "# That's it for the basics of automation. As I said, there is much more to learn,\n",
    "# some of which (list comprehension, any, all) we will certainly address in later\n",
    "# lessons. Feel free to look up these functions yourself if you want.\n",
    "\n",
    "# Up next: Data Wrangling 1 -- Spreadsheets and Dataframes"
   ]
  }
 ],
 "metadata": {
  "anaconda-cloud": {},
  "kernelspec": {
   "display_name": "Python [conda env:py3]",
   "language": "python",
   "name": "conda-env-py3-py"
  },
  "language_info": {
   "codemirror_mode": {
    "name": "ipython",
    "version": 3
   },
   "file_extension": ".py",
   "mimetype": "text/x-python",
   "name": "python",
   "nbconvert_exporter": "python",
   "pygments_lexer": "ipython3",
   "version": "3.5.2"
  }
 },
 "nbformat": 4,
 "nbformat_minor": 1
}
